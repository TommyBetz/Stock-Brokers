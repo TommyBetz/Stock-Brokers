{
  "nbformat": 4,
  "nbformat_minor": 0,
  "metadata": {
    "colab": {
      "name": "Untitled2.ipynb",
      "version": "0.3.2",
      "provenance": [],
      "collapsed_sections": []
    },
    "kernelspec": {
      "name": "python3",
      "display_name": "Python 3"
    },
    "accelerator": "TPU"
  },
  "cells": [
    {
      "metadata": {
        "id": "KbfACEiS5LZP",
        "colab_type": "code",
        "outputId": "2b110c8c-8656-4da3-f97e-01774d6e3d82",
        "colab": {
          "base_uri": "https://localhost:8080/",
          "height": 34
        }
      },
      "cell_type": "code",
      "source": [
        "import numpy as np\n",
        "import matplotlib.pyplot as plt\n",
        "import matplotlib.patches as mpatches\n",
        "import pandas as pd\n",
        "import glob\n",
        "import math\n",
        "from keras.models import Sequential\n",
        "from keras.layers import Dense, LSTM, Dropout, Bidirectional\n",
        "from keras.optimizers import Adam\n",
        "from sklearn.preprocessing import MinMaxScaler\n",
        "from sklearn.metrics import mean_squared_error"
      ],
      "execution_count": 1,
      "outputs": [
        {
          "output_type": "stream",
          "text": [
            "Using TensorFlow backend.\n"
          ],
          "name": "stderr"
        }
      ]
    },
    {
      "metadata": {
        "id": "9pq9EcR15tuV",
        "colab_type": "code",
        "colab": {}
      },
      "cell_type": "code",
      "source": [
        "# fix random seed for reproducibility\n",
        "np.random.seed(7)"
      ],
      "execution_count": 0,
      "outputs": []
    },
    {
      "metadata": {
        "id": "vw58QnxBHPIq",
        "colab_type": "code",
        "outputId": "15d30571-ddf2-4183-f095-3fd82db34c00",
        "colab": {
          "base_uri": "https://localhost:8080/",
          "height": 34
        }
      },
      "cell_type": "code",
      "source": [
        "# Importing drive to read the data from Google Drive.\n",
        "from google.colab import drive\n",
        "# drive.mount('/content/drive', force_remount=True)\n",
        "drive.mount('/content/drive')"
      ],
      "execution_count": 3,
      "outputs": [
        {
          "output_type": "stream",
          "text": [
            "Drive already mounted at /content/drive; to attempt to forcibly remount, call drive.mount(\"/content/drive\", force_remount=True).\n"
          ],
          "name": "stdout"
        }
      ]
    },
    {
      "metadata": {
        "id": "V0jOUsy75wzM",
        "colab_type": "code",
        "outputId": "3bd7418c-5f43-41be-fb92-e10df2c38db5",
        "colab": {
          "base_uri": "https://localhost:8080/",
          "height": 323
        }
      },
      "cell_type": "code",
      "source": [
        "# Loading the twitter data.\n",
        "path = r'/content/drive/My Drive/new_data/twitter_sentiment/Apple' # use your path\n",
        "all_files = glob.glob(path + \"/*.csv\")\n",
        "\n",
        "li = []\n",
        "\n",
        "for filename in all_files:\n",
        "    print(filename)\n",
        "    df = pd.read_csv(filename, index_col=None, header=0)\n",
        "    li.append(df)\n",
        "\n",
        "# Pandas dataframe that contains twitter data for apple.\n",
        "df_twitter_apple = pd.concat(li, axis=0, ignore_index=True)\n",
        "\n",
        "# Cleaning the twitter data.\n",
        "df_twitter_apple = df_twitter_apple[['Date', 'count_tweet', 'sum_followers_count','avg_weighted_avg_sentiment_2']]\n",
        "df_twitter_apple = df_twitter_apple.rename(columns={'sum_followers_count': 'twitter_sum_followers_count', 'avg_weighted_avg_sentiment_2':'twitter_avg_sentiment', 'count_tweet':'tweet_count'})"
      ],
      "execution_count": 4,
      "outputs": [
        {
          "output_type": "stream",
          "text": [
            "/content/drive/My Drive/new_data/twitter_sentiment/Apple/AAPL_2017-01.csv\n",
            "/content/drive/My Drive/new_data/twitter_sentiment/Apple/AAPL_2017-05.csv\n",
            "/content/drive/My Drive/new_data/twitter_sentiment/Apple/AAPL_2017-03.csv\n",
            "/content/drive/My Drive/new_data/twitter_sentiment/Apple/AAPL_2017-02.csv\n",
            "/content/drive/My Drive/new_data/twitter_sentiment/Apple/AAPL_2017-06.csv\n",
            "/content/drive/My Drive/new_data/twitter_sentiment/Apple/AAPL_2017-04.csv\n",
            "/content/drive/My Drive/new_data/twitter_sentiment/Apple/AAPL_2017-08.csv\n",
            "/content/drive/My Drive/new_data/twitter_sentiment/Apple/AAPL_2017-09.csv\n",
            "/content/drive/My Drive/new_data/twitter_sentiment/Apple/AAPL_2017-11.csv\n",
            "/content/drive/My Drive/new_data/twitter_sentiment/Apple/AAPL_2017-10.csv\n",
            "/content/drive/My Drive/new_data/twitter_sentiment/Apple/AAPL_2018-01.csv\n",
            "/content/drive/My Drive/new_data/twitter_sentiment/Apple/AAPL_2018-02.csv\n",
            "/content/drive/My Drive/new_data/twitter_sentiment/Apple/AAPL_2018-08.csv\n",
            "/content/drive/My Drive/new_data/twitter_sentiment/Apple/AAPL_2018-03.csv\n",
            "/content/drive/My Drive/new_data/twitter_sentiment/Apple/AAPL_2018-05.csv\n",
            "/content/drive/My Drive/new_data/twitter_sentiment/Apple/AAPL_2018-09.csv\n",
            "/content/drive/My Drive/new_data/twitter_sentiment/Apple/AAPL_2018-07.csv\n",
            "/content/drive/My Drive/new_data/twitter_sentiment/Apple/AAPL_2018-10.csv\n"
          ],
          "name": "stdout"
        }
      ]
    },
    {
      "metadata": {
        "id": "FBOqITDxOUwt",
        "colab_type": "code",
        "colab": {}
      },
      "cell_type": "code",
      "source": [
        "# Reading the stock market data for apple into a Pandas dataframe.\n",
        "df_stock_apple = pd.read_csv(r'/content/drive/My Drive/new_data/stock_data/AAPL_mod.csv')"
      ],
      "execution_count": 0,
      "outputs": []
    },
    {
      "metadata": {
        "id": "hTp1NXIkOnoh",
        "colab_type": "code",
        "outputId": "6c1b6adc-b3fc-42ec-ea0c-24f6ecab2d0e",
        "colab": {
          "base_uri": "https://localhost:8080/",
          "height": 292
        }
      },
      "cell_type": "code",
      "source": [
        "# Loading the news data.\n",
        "path = r'/content/drive/My Drive/new_data/news_sentiment/Apple_news/' # use your path\n",
        "all_files = glob.glob(path + \"/*.csv\")\n",
        "\n",
        "li = []\n",
        "\n",
        "for filename in all_files:\n",
        "    print(filename)\n",
        "    df = pd.read_csv(filename, index_col=None, header=0)\n",
        "    li.append(df)\n",
        "\n",
        "# Pandas dataframe that contains the news data for apple.\n",
        "df_news_apple = pd.concat(li, axis=0, ignore_index=True)\n",
        "\n",
        "# Selecting the required columns.\n",
        "df_news_apple = df_news_apple[['date', 'avg_weighted_sentiment_1', 'count_news']]\n",
        "\n",
        "# Renaming the date to Date.\n",
        "df_news_apple = df_news_apple.rename(columns={'date':'Date', 'avg_weighted_sentiment_1':'news_avg_sentiment'})"
      ],
      "execution_count": 6,
      "outputs": [
        {
          "output_type": "stream",
          "text": [
            "/content/drive/My Drive/new_data/news_sentiment/Apple_news/2017.csv\n",
            "/content/drive/My Drive/new_data/news_sentiment/Apple_news/2014.csv\n",
            "/content/drive/My Drive/new_data/news_sentiment/Apple_news/2016.csv\n",
            "/content/drive/My Drive/new_data/news_sentiment/Apple_news/2018.csv\n",
            "/content/drive/My Drive/new_data/news_sentiment/Apple_news/2015.csv\n",
            "/content/drive/My Drive/new_data/news_sentiment/Apple_news/2013.csv\n",
            "/content/drive/My Drive/new_data/news_sentiment/Apple_news/2012.csv\n"
          ],
          "name": "stdout"
        },
        {
          "output_type": "stream",
          "text": [
            "/usr/local/lib/python3.6/dist-packages/ipykernel_launcher.py:12: FutureWarning: Sorting because non-concatenation axis is not aligned. A future version\n",
            "of pandas will change to not sort by default.\n",
            "\n",
            "To accept the future behavior, pass 'sort=False'.\n",
            "\n",
            "To retain the current behavior and silence the warning, pass 'sort=True'.\n",
            "\n",
            "  if sys.path[0] == '':\n"
          ],
          "name": "stderr"
        }
      ]
    },
    {
      "metadata": {
        "id": "LAGEbXDoYk8S",
        "colab_type": "code",
        "outputId": "537f213a-669e-45c0-898c-b707acf08a2a",
        "colab": {
          "base_uri": "https://localhost:8080/",
          "height": 102
        }
      },
      "cell_type": "code",
      "source": [
        "# Loading the news data.\n",
        "path = r'/content/drive/My Drive/new_data/news_sentiment/Apple_Facebook_CNBC_Financial_sentiments/' # use your path\n",
        "all_files = glob.glob(path + \"/*.csv\")\n",
        "\n",
        "li = []\n",
        "\n",
        "for filename in all_files:\n",
        "    print(filename)\n",
        "    df = pd.read_csv(filename, index_col=None, header=0)\n",
        "    li.append(df)\n",
        "\n",
        "# Pandas dataframe that contains the news data for apple.\n",
        "df_financial_news_data = pd.concat(li, axis=0, ignore_index=True)\n",
        "\n",
        "# Keeping only the data which is relevant to apple.\n",
        "df_financial_news_apple = df_financial_news_data[(df_financial_news_data['company'] == 'apple')]\n",
        "\n",
        "# Selecting the required columns.\n",
        "df_financial_news_apple = df_financial_news_apple[['date', 'count_articles', 'avg_sentiment']]\n",
        "\n",
        "# Renaming the date to Date.\n",
        "df_financial_news_apple = df_financial_news_apple.rename(columns={'date':'Date','count_articles':'financial_count_articles', 'avg_sentiment':'financial_avg_sentiment'})"
      ],
      "execution_count": 7,
      "outputs": [
        {
          "output_type": "stream",
          "text": [
            "/content/drive/My Drive/new_data/news_sentiment/Apple_Facebook_CNBC_Financial_sentiments/financial_sentiment_2018-01.csv\n",
            "/content/drive/My Drive/new_data/news_sentiment/Apple_Facebook_CNBC_Financial_sentiments/financial_sentiment_2018-03.csv\n",
            "/content/drive/My Drive/new_data/news_sentiment/Apple_Facebook_CNBC_Financial_sentiments/financial_sentiment_2018-04.csv\n",
            "/content/drive/My Drive/new_data/news_sentiment/Apple_Facebook_CNBC_Financial_sentiments/financial_sentiment_2018-05.csv\n",
            "/content/drive/My Drive/new_data/news_sentiment/Apple_Facebook_CNBC_Financial_sentiments/financial_sentiment_2018-02.csv\n"
          ],
          "name": "stdout"
        }
      ]
    },
    {
      "metadata": {
        "id": "F2JbrDvyG6ap",
        "colab_type": "code",
        "colab": {
          "base_uri": "https://localhost:8080/",
          "height": 1649
        },
        "outputId": "a09af301-3520-4bf5-b7c0-c77327ca293d"
      },
      "cell_type": "code",
      "source": [
        "# Pearson Correlation for stock data features.\n",
        "\n",
        "df_stock_apple_dow_close_pearson = df_stock_apple[['DOW', 'Close']].corr(method = 'pearson')\n",
        "df_stock_apple_high_close_pearson = df_stock_apple[['High', 'Close']].corr(method = 'pearson')\n",
        "df_stock_apple_low_close_pearson = df_stock_apple[['Low', 'Close']].corr(method = 'pearson')\n",
        "df_stock_apple_open_close_pearson = df_stock_apple[['Open', 'Close']].corr(method = 'pearson')\n",
        "df_stock_apple_volume_close_pearson = df_stock_apple[['Volume', 'Close']].corr(method = 'pearson')\n",
        "df_stock_apple_rd_close_pearson = df_stock_apple[['Running Difference', 'Close']].corr(method = 'pearson')\n",
        "df_stock_apple_uscad_close_pearson = df_stock_apple[['US/CAD', 'Close']].corr(method = 'pearson')\n",
        "df_stock_apple_vwap_close_pearson = df_stock_apple[['VWAP', 'Close']].corr(method = 'pearson')\n",
        "\n",
        "\n",
        "print('Pearson correlation between Day of Week and Close is:')\n",
        "print(df_stock_apple_dow_close_pearson)\n",
        "print('\\n')\n",
        "print('Pearson correlation between High and Close is:')\n",
        "print(df_stock_apple_high_close_pearson)\n",
        "print('\\n')\n",
        "print('Pearson correlation between Low and Close is:')\n",
        "print(df_stock_apple_low_close_pearson)\n",
        "print('\\n')\n",
        "print('Pearson correlation between Open and Close is:')\n",
        "print(df_stock_apple_open_close_pearson)\n",
        "print('\\n')\n",
        "print('Pearson correlation between Volume and Close is:')\n",
        "print(df_stock_apple_volume_close_pearson)\n",
        "print('\\n')\n",
        "print('Pearson correlation between Running Difference and Close is:')\n",
        "print(df_stock_apple_rd_close_pearson)\n",
        "print('\\n')\n",
        "print('Pearson correlation between US/CAD exchange rate and Close is:')\n",
        "print(df_stock_apple_uscad_close_pearson)\n",
        "print('\\n')\n",
        "print('Pearson correlation between VWAP(Volume Weighted Average Price) and Close is:')\n",
        "print(df_stock_apple_vwap_close_pearson)\n",
        "print('\\n')\n",
        "\n",
        "\n",
        "# Spearman Correlation for stock data features.\n",
        "\n",
        "df_stock_apple_dow_close_spearman = df_stock_apple[['DOW', 'Close']].corr(method = 'spearman')\n",
        "df_stock_apple_high_close_spearman = df_stock_apple[['High', 'Close']].corr(method = 'spearman')\n",
        "df_stock_apple_low_close_spearman = df_stock_apple[['Low', 'Close']].corr(method = 'spearman')\n",
        "df_stock_apple_open_close_spearman = df_stock_apple[['Open', 'Close']].corr(method = 'spearman')\n",
        "df_stock_apple_volume_close_spearman = df_stock_apple[['Volume', 'Close']].corr(method = 'spearman')\n",
        "df_stock_apple_rd_close_spearman = df_stock_apple[['Running Difference', 'Close']].corr(method = 'spearman')\n",
        "df_stock_apple_uscad_close_spearman = df_stock_apple[['US/CAD', 'Close']].corr(method = 'spearman')\n",
        "df_stock_apple_vwap_close_spearman = df_stock_apple[['VWAP', 'Close']].corr(method = 'spearman')\n",
        "\n",
        "\n",
        "print('Spearman correlation between Day of Week and Close is:')\n",
        "print(df_stock_apple_dow_close_spearman)\n",
        "print('\\n')\n",
        "print('Spearman correlation between High and Close is:')\n",
        "print(df_stock_apple_high_close_spearman)\n",
        "print('\\n')\n",
        "print('Spearman correlation between Low and Close is:')\n",
        "print(df_stock_apple_low_close_spearman)\n",
        "print('\\n')\n",
        "print('Spearman correlation between Open and Close is:')\n",
        "print(df_stock_apple_open_close_spearman)\n",
        "print('\\n')\n",
        "print('Spearman correlation between Volume and Close is:')\n",
        "print(df_stock_apple_volume_close_spearman)\n",
        "print('\\n')\n",
        "print('Spearman correlation between Running Difference and Close is:')\n",
        "print(df_stock_apple_rd_close_spearman)\n",
        "print('\\n')\n",
        "print('Spearman correlation between US/CAD exchange rate and Close is:')\n",
        "print(df_stock_apple_uscad_close_spearman)\n",
        "print('\\n')\n",
        "print('Spearman correlation between VWAP(Volume Weighted Average Price) and Close is:')\n",
        "print(df_stock_apple_vwap_close_spearman)\n",
        "print('\\n')"
      ],
      "execution_count": 8,
      "outputs": [
        {
          "output_type": "stream",
          "text": [
            "Pearson correlation between Day of Week and Close is:\n",
            "            DOW     Close\n",
            "DOW    1.000000 -0.001226\n",
            "Close -0.001226  1.000000\n",
            "\n",
            "\n",
            "Pearson correlation between High and Close is:\n",
            "           High     Close\n",
            "High   1.000000  0.999722\n",
            "Close  0.999722  1.000000\n",
            "\n",
            "\n",
            "Pearson correlation between Low and Close is:\n",
            "            Low     Close\n",
            "Low    1.000000  0.999744\n",
            "Close  0.999744  1.000000\n",
            "\n",
            "\n",
            "Pearson correlation between Open and Close is:\n",
            "           Open     Close\n",
            "Open   1.000000  0.999425\n",
            "Close  0.999425  1.000000\n",
            "\n",
            "\n",
            "Pearson correlation between Volume and Close is:\n",
            "          Volume     Close\n",
            "Volume  1.000000  0.204484\n",
            "Close   0.204484  1.000000\n",
            "\n",
            "\n",
            "Pearson correlation between Running Difference and Close is:\n",
            "                    Running Difference     Close\n",
            "Running Difference            1.000000  0.343693\n",
            "Close                         0.343693  1.000000\n",
            "\n",
            "\n",
            "Pearson correlation between US/CAD exchange rate and Close is:\n",
            "          US/CAD     Close\n",
            "US/CAD  1.000000  0.720408\n",
            "Close   0.720408  1.000000\n",
            "\n",
            "\n",
            "Pearson correlation between VWAP(Volume Weighted Average Price) and Close is:\n",
            "           VWAP     Close\n",
            "VWAP   1.000000  0.856878\n",
            "Close  0.856878  1.000000\n",
            "\n",
            "\n",
            "Spearman correlation between Day of Week and Close is:\n",
            "            DOW     Close\n",
            "DOW    1.000000 -0.003859\n",
            "Close -0.003859  1.000000\n",
            "\n",
            "\n",
            "Spearman correlation between High and Close is:\n",
            "           High     Close\n",
            "High   1.000000  0.999579\n",
            "Close  0.999579  1.000000\n",
            "\n",
            "\n",
            "Spearman correlation between Low and Close is:\n",
            "            Low     Close\n",
            "Low    1.000000  0.999599\n",
            "Close  0.999599  1.000000\n",
            "\n",
            "\n",
            "Spearman correlation between Open and Close is:\n",
            "           Open     Close\n",
            "Open   1.000000  0.999114\n",
            "Close  0.999114  1.000000\n",
            "\n",
            "\n",
            "Spearman correlation between Volume and Close is:\n",
            "          Volume     Close\n",
            "Volume  1.000000  0.434197\n",
            "Close   0.434197  1.000000\n",
            "\n",
            "\n",
            "Spearman correlation between Running Difference and Close is:\n",
            "                    Running Difference     Close\n",
            "Running Difference            1.000000  0.378883\n",
            "Close                         0.378883  1.000000\n",
            "\n",
            "\n",
            "Spearman correlation between US/CAD exchange rate and Close is:\n",
            "          US/CAD     Close\n",
            "US/CAD  1.000000  0.712201\n",
            "Close   0.712201  1.000000\n",
            "\n",
            "\n",
            "Spearman correlation between VWAP(Volume Weighted Average Price) and Close is:\n",
            "           VWAP     Close\n",
            "VWAP   1.000000  0.915756\n",
            "Close  0.915756  1.000000\n",
            "\n",
            "\n"
          ],
          "name": "stdout"
        }
      ]
    },
    {
      "metadata": {
        "id": "KMoVJbvaOzgV",
        "colab_type": "code",
        "colab": {
          "base_uri": "https://localhost:8080/",
          "height": 425
        },
        "outputId": "96e7686b-a2e6-4ad6-b485-536cb8869502"
      },
      "cell_type": "code",
      "source": [
        "# Pearson correlation for stock and twitter data.\n",
        "\n",
        "# Inner joining with the stock and the twitter data.\n",
        "\n",
        "df_stock_twitter = pd.merge(df_stock_apple, df_twitter_apple, on='Date')\n",
        "df_stock_twitter['tweet_count'] = df_stock_twitter['tweet_count'].astype(np.float64)\n",
        "\n",
        "# Pearson Correlation for stock data features.\n",
        "df_stock_twitter_apple_tweet_count_close_pearson = df_stock_twitter[['tweet_count', 'Close']].corr(method = 'pearson')\n",
        "# df_stock_twitter_apple_twitter_sum_close_pearson = df_stock_twitter[['twitter_sum_followers_count', 'Close']].corr(method = 'pearson')\n",
        "df_stock_twitter_apple_twitter_avg_sentiment_close_pearson = df_stock_twitter[['twitter_avg_sentiment', 'Close']].corr(method = 'pearson')\n",
        "\n",
        "print('Pearson correlation between tweet_count and Close is:')\n",
        "print(df_stock_twitter_apple_tweet_count_close_pearson)\n",
        "print('\\n')\n",
        "# print('Pearson correlation between twitter_sum_followers_count and Close is:')\n",
        "# print(df_stock_twitter_apple_twitter_sum_close_pearson)\n",
        "# print('\\n')\n",
        "print('Pearson correlation between twitter_avg_sentiment and Close is:')\n",
        "print(df_stock_twitter_apple_twitter_avg_sentiment_close_pearson)\n",
        "print('\\n')\n",
        "\n",
        "\n",
        "# Spearman Correlation for stock data features.\n",
        "df_stock_twitter_apple_tweet_count_close_spearman = df_stock_twitter[['tweet_count', 'Close']].corr(method = 'spearman')\n",
        "# df_stock_twitter_apple_twitter_sum_close_spearman = df_stock_twitter[['twitter_sum_followers_count', 'Close']].corr(method = 'spearman')\n",
        "df_stock_twitter_apple_twitter_avg_sentiment_close_spearman = df_stock_twitter[['twitter_avg_sentiment', 'Close']].corr(method = 'spearman')\n",
        "\n",
        "print('Spearman correlation between tweet_count and Close is:')\n",
        "print(df_stock_twitter_apple_tweet_count_close_spearman)\n",
        "print('\\n')\n",
        "# print('Spearman correlation between twitter_sum_followers_count and Close is:')\n",
        "# print(df_stock_twitter_apple_twitter_sum_close_spearman)\n",
        "# print('\\n')\n",
        "print('Spearman correlation between twitter_avg_sentiment and Close is:')\n",
        "print(df_stock_twitter_apple_twitter_avg_sentiment_close_spearman)\n",
        "print('\\n')"
      ],
      "execution_count": 9,
      "outputs": [
        {
          "output_type": "stream",
          "text": [
            "Pearson correlation between tweet_count and Close is:\n",
            "             tweet_count     Close\n",
            "tweet_count     1.000000 -0.091321\n",
            "Close          -0.091321  1.000000\n",
            "\n",
            "\n",
            "Pearson correlation between twitter_avg_sentiment and Close is:\n",
            "                       twitter_avg_sentiment    Close\n",
            "twitter_avg_sentiment                1.00000 -0.08826\n",
            "Close                               -0.08826  1.00000\n",
            "\n",
            "\n",
            "Spearman correlation between tweet_count and Close is:\n",
            "             tweet_count     Close\n",
            "tweet_count     1.000000 -0.424871\n",
            "Close          -0.424871  1.000000\n",
            "\n",
            "\n",
            "Spearman correlation between twitter_avg_sentiment and Close is:\n",
            "                       twitter_avg_sentiment     Close\n",
            "twitter_avg_sentiment               1.000000 -0.086189\n",
            "Close                              -0.086189  1.000000\n",
            "\n",
            "\n"
          ],
          "name": "stdout"
        }
      ]
    },
    {
      "metadata": {
        "id": "DW6cXWBNdwTf",
        "colab_type": "code",
        "colab": {
          "base_uri": "https://localhost:8080/",
          "height": 425
        },
        "outputId": "ed4b92c6-7188-4065-eb89-6db5b9161f5c"
      },
      "cell_type": "code",
      "source": [
        "# Inner joining the stock and the news data.\n",
        "df_stock_news_apple = pd.merge(df_stock_apple, df_news_apple, on='Date')\n",
        "df_stock_news_apple.columns\n",
        "\n",
        "# Pearson Correlation for stock data features.\n",
        "df_stock_twitter_apple_tweet_count_close_pearson = df_stock_news_apple[['news_avg_sentiment', 'Close']].corr(method = 'pearson')\n",
        "df_stock_twitter_apple_twitter_avg_sentiment_close_pearson = df_stock_news_apple[['count_news', 'Close']].corr(method = 'pearson')\n",
        "\n",
        "print('Pearson correlation between news_avg_sentiment and Close is:')\n",
        "print(df_stock_twitter_apple_tweet_count_close_pearson)\n",
        "print('\\n')\n",
        "\n",
        "print('Pearson correlation between count_news and Close is:')\n",
        "print(df_stock_twitter_apple_twitter_avg_sentiment_close_pearson)\n",
        "print('\\n')\n",
        "\n",
        "# Spearman Correlation for stock data features.\n",
        "df_stock_twitter_apple_tweet_count_close_spearman = df_stock_news_apple[['news_avg_sentiment', 'Close']].corr(method = 'spearman')\n",
        "df_stock_twitter_apple_twitter_avg_sentiment_close_spearman = df_stock_news_apple[['count_news', 'Close']].corr(method = 'spearman')\n",
        "\n",
        "print('Spearman correlation between news_avg_sentiment and Close is:')\n",
        "print(df_stock_twitter_apple_tweet_count_close_spearman)\n",
        "print('\\n')\n",
        "\n",
        "print('Spearman correlation between count_news and Close is:')\n",
        "print(df_stock_twitter_apple_twitter_avg_sentiment_close_spearman)\n",
        "print('\\n')\n"
      ],
      "execution_count": 10,
      "outputs": [
        {
          "output_type": "stream",
          "text": [
            "Pearson correlation between news_avg_sentiment and Close is:\n",
            "                    news_avg_sentiment     Close\n",
            "news_avg_sentiment            1.000000 -0.003421\n",
            "Close                        -0.003421  1.000000\n",
            "\n",
            "\n",
            "Pearson correlation between count_news and Close is:\n",
            "            count_news     Close\n",
            "count_news    1.000000 -0.199476\n",
            "Close        -0.199476  1.000000\n",
            "\n",
            "\n",
            "Spearman correlation between news_avg_sentiment and Close is:\n",
            "                    news_avg_sentiment     Close\n",
            "news_avg_sentiment            1.000000 -0.099409\n",
            "Close                        -0.099409  1.000000\n",
            "\n",
            "\n",
            "Spearman correlation between count_news and Close is:\n",
            "            count_news     Close\n",
            "count_news    1.000000 -0.190386\n",
            "Close        -0.190386  1.000000\n",
            "\n",
            "\n"
          ],
          "name": "stdout"
        }
      ]
    },
    {
      "metadata": {
        "id": "mFw9_E7XN8ws",
        "colab_type": "code",
        "colab": {}
      },
      "cell_type": "code",
      "source": [
        "# Joining with the huffinton news data.\n",
        "# Inner joining the stock and the news data.\n",
        "df_stock_news = pd.merge(df_stock_apple, df_news_apple, on='Date')\n",
        "# Inner joining the stock,news and the twitter data.\n",
        "df_stock_news_twitter_apple_dates = pd.merge(df_stock_news, df_twitter_apple, on='Date')\n",
        "\n",
        "\n",
        "# # Joining with the financial news dataset.\n",
        "# # Inner joining the stock and the news data.\n",
        "# df_stock_news = pd.merge(df_stock_apple, df_financial_news_apple, on='Date')\n",
        "# # Inner joining the stock,news and the twitter data.\n",
        "# df_stock_news_twitter_apple = pd.merge(df_stock_news, df_twitter_apple, on='Date')"
      ],
      "execution_count": 0,
      "outputs": []
    },
    {
      "metadata": {
        "id": "2tY4GNK7hE7Q",
        "colab_type": "code",
        "colab": {}
      },
      "cell_type": "code",
      "source": [
        "# df_stock_news_twitter_apple_dates"
      ],
      "execution_count": 0,
      "outputs": []
    },
    {
      "metadata": {
        "id": "6l9CvmhLSfFT",
        "colab_type": "code",
        "colab": {}
      },
      "cell_type": "code",
      "source": [
        "# # Huffington\n",
        "# # Selecting the required number of columns and rearranging them.\n",
        "# df_stock_news_twitter_apple = df_stock_news_twitter_apple[['DOW', 'Open', 'High', 'Low', 'Volume', 'Running Difference', 'US/CAD', 'VWAP', 'tweet_count', 'twitter_sum_followers_count', 'twitter_avg_sentiment', 'news_avg_sentiment', 'count_news', 'Close']]\n",
        "\n",
        "# # Case 1: Stock Data\n",
        "# df_stock_news_twitter_apple = df_stock_news_twitter_apple_dates[['DOW', 'Open', 'High', 'Low', 'Volume', 'Running Difference', 'US/CAD', 'VWAP', 'Close']]\n",
        "# # Case 2: Stock + twitter\n",
        "# df_stock_news_twitter_apple = df_stock_news_twitter_apple[['DOW', 'Open', 'High', 'Low', 'Volume', 'Running Difference', 'US/CAD', 'VWAP', 'tweet_count', 'twitter_sum_followers_count', 'twitter_avg_sentiment', 'Close']]\n",
        "# # Case 3: Stock + huffington\n",
        "# df_stock_news_twitter_apple = df_stock_news_twitter_apple_dates[['DOW', 'Open', 'High', 'Low', 'Volume', 'Running Difference', 'US/CAD', 'VWAP', 'news_avg_sentiment', 'count_news', 'Close']]\n",
        "# # # Case 4: Stock + huffington + twitter\n",
        "# df_stock_news_twitter_apple = df_stock_news_twitter_apple[['DOW', 'Open', 'High', 'Low', 'Volume', 'Running Difference', 'US/CAD', 'VWAP', 'tweet_count', 'twitter_sum_followers_count', 'twitter_avg_sentiment', 'news_avg_sentiment', 'count_news', 'Close']]\n",
        "\n",
        "# # Financial news data.\n",
        "\n",
        "# # Case 5: Stock + finance\n",
        "# df_stock_news_twitter_apple = df_stock_news_twitter_apple[['DOW', 'Open', 'High', 'Low', 'Volume', 'Running Difference', 'US/CAD', 'VWAP', 'financial_count_articles', 'financial_avg_sentiment', 'Close']]\n",
        "\n",
        "# # Case 6: Stock + finance + twitter\n",
        "# df_stock_news_twitter_apple = df_stock_news_twitter_apple[['DOW', 'Open', 'High', 'Low', 'Volume', 'Running Difference', 'US/CAD', 'VWAP', 'tweet_count', 'twitter_sum_followers_count', 'twitter_avg_sentiment', 'financial_count_articles', 'financial_avg_sentiment', 'Close']]"
      ],
      "execution_count": 0,
      "outputs": []
    },
    {
      "metadata": {
        "id": "PN1GTrmVyu82",
        "colab_type": "code",
        "colab": {}
      },
      "cell_type": "code",
      "source": [
        "df_stock_news_apple = pd.merge(df_stock_apple, df_news_apple, on='Date')\n",
        "df_stock_twitter = pd.merge(df_stock_apple, df_twitter_apple, on='Date')\n",
        "\n",
        "# # Case 1: Stock Data.\n",
        "df_stock_news_twitter_apple = df_stock_apple[['Open', 'High', 'Low', 'Volume', 'Running Difference', 'US/CAD', 'VWAP', 'Close']]\n",
        "\n",
        "# Index(['Close', 'DOW', 'Date', 'High', 'Low', 'Open', 'Running Difference',\n",
        "#        'US/CAD', 'VWAP', 'Volume'],\n",
        "#       dtype='object')\n",
        "\n",
        "# Case 2: Stock + News Data.\n",
        "# Inner joining the stock and the news data.\n",
        "# df_stock_news_twitter_apple = df_stock_news_apple[['DOW', 'Open', 'High', 'Low', 'Volume', 'Running Difference', 'US/CAD', 'VWAP', 'news_avg_sentiment', 'count_news', 'Close']]\n",
        "# Index(['Close', 'DOW', 'Date', 'High', 'Low', 'Open', 'Running Difference',\n",
        "#        'US/CAD', 'VWAP', 'Volume', 'news_avg_sentiment', 'count_news'],\n",
        "#       dtype='object')\n",
        "\n",
        "# Case 3: Stock + Twitter Data.\n",
        "# Inner joining with the stock and the twitter data.\n",
        "# df_stock_twitter['tweet_count'] = df_stock_twitter['tweet_count'].astype(np.float64)\n",
        "# df_stock_news_twitter_apple = df_stock_twitter[['DOW', 'Open', 'High', 'Low', 'Volume', 'Running Difference', 'US/CAD', 'VWAP', 'tweet_count', 'twitter_sum_followers_count', 'twitter_avg_sentiment', 'Close']]\n",
        "\n",
        "# Index(['Close', 'DOW', 'Date', 'High', 'Low', 'Open', 'Running Difference',\n",
        "#        'US/CAD', 'VWAP', 'Volume', 'tweet_count',\n",
        "#        'twitter_sum_followers_count', 'twitter_avg_sentiment'],\n",
        "#       dtype='object')\n",
        "\n",
        "\n",
        "# Case 4: Stock + News + Twitter Data.\n",
        "# df_stock_news_twitter_apple = df_stock_news_twitter_apple_dates[['DOW', 'Open', 'High', 'Low', 'Volume', 'Running Difference', 'US/CAD', 'VWAP', 'tweet_count', 'twitter_sum_followers_count', 'twitter_avg_sentiment', 'news_avg_sentiment', 'count_news', 'Close']]\n",
        "\n",
        "# Index(['Close', 'DOW', 'Date', 'High', 'Low', 'Open', 'Running Difference',\n",
        "#        'US/CAD', 'VWAP', 'Volume', 'news_avg_sentiment', 'count_news',\n",
        "#        'tweet_count', 'twitter_sum_followers_count', 'twitter_avg_sentiment'],\n",
        "#       dtype='object')"
      ],
      "execution_count": 0,
      "outputs": []
    },
    {
      "metadata": {
        "id": "NQfR9GZDL0Jj",
        "colab_type": "code",
        "outputId": "38777613-f8ec-4524-d9ae-b1db94e0c428",
        "colab": {
          "base_uri": "https://localhost:8080/",
          "height": 51
        }
      },
      "cell_type": "code",
      "source": [
        "print(df_stock_news_twitter_apple.shape)\n",
        "df_stock_news_twitter_apple = df_stock_news_twitter_apple.dropna()\n",
        "print(df_stock_news_twitter_apple.shape)"
      ],
      "execution_count": 15,
      "outputs": [
        {
          "output_type": "stream",
          "text": [
            "(1808, 8)\n",
            "(1552, 8)\n"
          ],
          "name": "stdout"
        }
      ]
    },
    {
      "metadata": {
        "id": "UOP-SgCbXbnP",
        "colab_type": "code",
        "colab": {}
      },
      "cell_type": "code",
      "source": [
        "# df_stock_news_twitter_apple['Date'].to_csv('abc.csv')"
      ],
      "execution_count": 0,
      "outputs": []
    },
    {
      "metadata": {
        "id": "_EawQ9UO6Rxt",
        "colab_type": "code",
        "colab": {}
      },
      "cell_type": "code",
      "source": [
        "all_data_list = df_stock_news_twitter_apple.values\n",
        "all_data_list = all_data_list.astype('float32')"
      ],
      "execution_count": 0,
      "outputs": []
    },
    {
      "metadata": {
        "id": "gQ_lZH8w6bf9",
        "colab_type": "code",
        "outputId": "ffb935e0-b282-430c-87f4-7cb1e0364dd2",
        "colab": {
          "base_uri": "https://localhost:8080/",
          "height": 34
        }
      },
      "cell_type": "code",
      "source": [
        "all_data_list.shape"
      ],
      "execution_count": 18,
      "outputs": [
        {
          "output_type": "execute_result",
          "data": {
            "text/plain": [
              "(1552, 8)"
            ]
          },
          "metadata": {
            "tags": []
          },
          "execution_count": 18
        }
      ]
    },
    {
      "metadata": {
        "id": "9jR0ozEeHw-2",
        "colab_type": "code",
        "outputId": "689656ec-f9f9-4a74-c6ac-7c15b18e5412",
        "colab": {
          "base_uri": "https://localhost:8080/",
          "height": 68
        }
      },
      "cell_type": "code",
      "source": [
        "all_data_list[0]"
      ],
      "execution_count": 19,
      "outputs": [
        {
          "output_type": "execute_result",
          "data": {
            "text/plain": [
              "array([5.2613605e+01, 5.3012001e+01, 5.2562199e+01, 1.0793600e+07,\n",
              "       4.4979879e-01, 1.0089000e+00, 5.2759148e+01, 5.2848785e+01],\n",
              "      dtype=float32)"
            ]
          },
          "metadata": {
            "tags": []
          },
          "execution_count": 19
        }
      ]
    },
    {
      "metadata": {
        "id": "Qn3FP5iwpzo2",
        "colab_type": "code",
        "colab": {}
      },
      "cell_type": "code",
      "source": [
        "num_of_features = all_data_list.shape[1] - 1"
      ],
      "execution_count": 0,
      "outputs": []
    },
    {
      "metadata": {
        "colab_type": "code",
        "id": "XCZ_gK_tETuw",
        "colab": {}
      },
      "cell_type": "code",
      "source": [
        "# Normalize the dataset\n",
        "scaler_train = MinMaxScaler(feature_range=(0, 1))\n",
        "dataset_1 = scaler_train.fit_transform(all_data_list[:,:num_of_features])\n",
        "\n",
        "scaler_test = MinMaxScaler(feature_range=(0, 1))\n",
        "dataset_2 = scaler_test.fit_transform(all_data_list[:,num_of_features:num_of_features+1])\n",
        "\n",
        "ds_scaled = np.column_stack((dataset_1,dataset_2))"
      ],
      "execution_count": 0,
      "outputs": []
    },
    {
      "metadata": {
        "id": "1bPY9-Ge6oOm",
        "colab_type": "code",
        "outputId": "5f55da52-4b06-4efe-fb48-2e3ab7be1a9a",
        "colab": {
          "base_uri": "https://localhost:8080/",
          "height": 34
        }
      },
      "cell_type": "code",
      "source": [
        "ds_scaled.shape"
      ],
      "execution_count": 22,
      "outputs": [
        {
          "output_type": "execute_result",
          "data": {
            "text/plain": [
              "(1552, 8)"
            ]
          },
          "metadata": {
            "tags": []
          },
          "execution_count": 22
        }
      ]
    },
    {
      "metadata": {
        "id": "IzvvWx1L6p4R",
        "colab_type": "code",
        "outputId": "47823b30-185c-48bb-98da-ff87f502fb82",
        "colab": {
          "base_uri": "https://localhost:8080/",
          "height": 51
        }
      },
      "cell_type": "code",
      "source": [
        "ds_scaled[0]"
      ],
      "execution_count": 23,
      "outputs": [
        {
          "output_type": "execute_result",
          "data": {
            "text/plain": [
              "array([0.01529342, 0.00685287, 0.01801318, 0.02767768, 0.01379376,\n",
              "       0.07763231, 0.        , 0.01467979], dtype=float32)"
            ]
          },
          "metadata": {
            "tags": []
          },
          "execution_count": 23
        }
      ]
    },
    {
      "metadata": {
        "id": "o_Ed1-7J6-C9",
        "colab_type": "code",
        "outputId": "160be94c-5c68-4cf6-a086-bd8c1ae6c94f",
        "colab": {
          "base_uri": "https://localhost:8080/",
          "height": 34
        }
      },
      "cell_type": "code",
      "source": [
        "# split into train and test sets\n",
        "train_size = int(len(ds_scaled) * 0.7)\n",
        "test_size = len(ds_scaled) - train_size\n",
        "train, test = ds_scaled[0:train_size,:], ds_scaled[train_size:len(ds_scaled),:]\n",
        "print(len(train), len(test))\n"
      ],
      "execution_count": 24,
      "outputs": [
        {
          "output_type": "stream",
          "text": [
            "1086 466\n"
          ],
          "name": "stdout"
        }
      ]
    },
    {
      "metadata": {
        "id": "B85UxcYFKGYQ",
        "colab_type": "code",
        "outputId": "3a92509a-9663-4160-9902-5e2f242a316f",
        "colab": {
          "base_uri": "https://localhost:8080/",
          "height": 34
        }
      },
      "cell_type": "code",
      "source": [
        "train.shape"
      ],
      "execution_count": 25,
      "outputs": [
        {
          "output_type": "execute_result",
          "data": {
            "text/plain": [
              "(1086, 8)"
            ]
          },
          "metadata": {
            "tags": []
          },
          "execution_count": 25
        }
      ]
    },
    {
      "metadata": {
        "id": "TuwTnmZMJCzD",
        "colab_type": "code",
        "colab": {}
      },
      "cell_type": "code",
      "source": [
        "# convert an array of values into a dataset matrix\n",
        "def create_dataset(dataset, look_back=1):\n",
        "\tdataX, dataY = [], []\n",
        "\tfor i in range(len(dataset)-look_back-1):\n",
        "\t\ta = dataset[i:(i+look_back), 0:num_of_features]\n",
        "\t\tdataX.append(a)\n",
        "\t\tdataY.append(dataset[i + look_back, num_of_features])\n",
        "\treturn np.array(dataX), np.array(dataY)"
      ],
      "execution_count": 0,
      "outputs": []
    },
    {
      "metadata": {
        "id": "rFya7vRdJUZU",
        "colab_type": "code",
        "colab": {}
      },
      "cell_type": "code",
      "source": [
        "# reshape into X=t and Y=t+1\n",
        "look_back = 5\n",
        "trainX, trainY = create_dataset(train, look_back)\n",
        "testX, testY = create_dataset(test, look_back)"
      ],
      "execution_count": 0,
      "outputs": []
    },
    {
      "metadata": {
        "id": "grdFylRNLGHy",
        "colab_type": "code",
        "outputId": "159684f7-ea55-4fa8-90eb-c2c148260160",
        "colab": {
          "base_uri": "https://localhost:8080/",
          "height": 34
        }
      },
      "cell_type": "code",
      "source": [
        "trainX.shape"
      ],
      "execution_count": 28,
      "outputs": [
        {
          "output_type": "execute_result",
          "data": {
            "text/plain": [
              "(1080, 5, 7)"
            ]
          },
          "metadata": {
            "tags": []
          },
          "execution_count": 28
        }
      ]
    },
    {
      "metadata": {
        "id": "PJi0nZ9ILk72",
        "colab_type": "code",
        "colab": {}
      },
      "cell_type": "code",
      "source": [
        "# reshape input to be [samples, time steps, features]\n",
        "trainX = np.reshape(trainX, (trainX.shape[0], num_of_features, trainX.shape[1]))\n",
        "testX = np.reshape(testX, (testX.shape[0], num_of_features, testX.shape[1]))"
      ],
      "execution_count": 0,
      "outputs": []
    },
    {
      "metadata": {
        "id": "ESi3RpohYOzr",
        "colab_type": "code",
        "outputId": "23c13a8b-764d-48de-a0a7-b502bb5fc5b2",
        "colab": {
          "base_uri": "https://localhost:8080/",
          "height": 34
        }
      },
      "cell_type": "code",
      "source": [
        "testY.shape"
      ],
      "execution_count": 30,
      "outputs": [
        {
          "output_type": "execute_result",
          "data": {
            "text/plain": [
              "(460,)"
            ]
          },
          "metadata": {
            "tags": []
          },
          "execution_count": 30
        }
      ]
    },
    {
      "metadata": {
        "id": "7GfYm8B0RR1p",
        "colab_type": "code",
        "outputId": "c6d8ce1a-5693-47a0-a2a9-6b3ebdb85153",
        "colab": {
          "base_uri": "https://localhost:8080/",
          "height": 1105
        }
      },
      "cell_type": "code",
      "source": [
        "x_axis = df_stock_news_twitter_apple_dates[['Date']]\n",
        "x_axis.head"
      ],
      "execution_count": 31,
      "outputs": [
        {
          "output_type": "execute_result",
          "data": {
            "text/plain": [
              "<bound method NDFrame.head of            Date\n",
              "0    2017-01-03\n",
              "1    2017-01-04\n",
              "2    2017-01-05\n",
              "3    2017-01-09\n",
              "4    2017-01-13\n",
              "5    2017-01-18\n",
              "6    2017-01-24\n",
              "7    2017-01-27\n",
              "8    2017-01-30\n",
              "9    2017-01-31\n",
              "10   2017-01-31\n",
              "11   2017-02-02\n",
              "12   2017-02-06\n",
              "13   2017-02-07\n",
              "14   2017-02-10\n",
              "15   2017-02-16\n",
              "16   2017-02-21\n",
              "17   2017-02-22\n",
              "18   2017-02-28\n",
              "19   2017-02-28\n",
              "20   2017-03-01\n",
              "21   2017-03-03\n",
              "22   2017-03-07\n",
              "23   2017-03-08\n",
              "24   2017-03-09\n",
              "25   2017-03-15\n",
              "26   2017-03-16\n",
              "27   2017-03-17\n",
              "28   2017-03-20\n",
              "29   2017-03-21\n",
              "..          ...\n",
              "112  2017-11-09\n",
              "113  2017-11-13\n",
              "114  2017-11-15\n",
              "115  2017-11-27\n",
              "116  2017-11-30\n",
              "117  2018-01-05\n",
              "118  2018-01-08\n",
              "119  2018-01-10\n",
              "120  2018-01-17\n",
              "121  2018-01-18\n",
              "122  2018-01-23\n",
              "123  2018-01-25\n",
              "124  2018-01-29\n",
              "125  2018-01-30\n",
              "126  2018-02-07\n",
              "127  2018-02-08\n",
              "128  2018-02-12\n",
              "129  2018-02-13\n",
              "130  2018-02-20\n",
              "131  2018-02-21\n",
              "132  2018-02-23\n",
              "133  2018-03-02\n",
              "134  2018-03-06\n",
              "135  2018-03-07\n",
              "136  2018-03-08\n",
              "137  2018-03-12\n",
              "138  2018-03-14\n",
              "139  2018-03-23\n",
              "140  2018-05-04\n",
              "141  2018-05-07\n",
              "\n",
              "[142 rows x 1 columns]>"
            ]
          },
          "metadata": {
            "tags": []
          },
          "execution_count": 31
        }
      ]
    },
    {
      "metadata": {
        "id": "UHMIlfQPJXho",
        "colab_type": "code",
        "outputId": "7347a8f4-e937-42fb-ca29-13426e201095",
        "colab": {
          "base_uri": "https://localhost:8080/",
          "height": 496
        }
      },
      "cell_type": "code",
      "source": [
        "# create and fit the LSTM network\n",
        "model = Sequential()\n",
        "model.add(LSTM(4, input_shape=(trainX.shape[1], look_back)))\n",
        "# model.add(Bidirectional(LSTM(8, input_shape=(trainX.shape[1], look_back))))\n",
        "# model.add(Dropout(0.5))\n",
        "# model.add(Dense(32, activation='selu'))\n",
        "model.add(Dense(32))\n",
        "# model.add(Dense(32, activation='selu'))\n",
        "# model.add(Dense(1))\n",
        "# model.add(Dropout(0.5))\n",
        "# model.add(Dense(32, activation='selu'))\n",
        "# model.add(Dropout(0.5))\n",
        "# model.add(Dense(32, activation='selu'))\n",
        "# model.add(Dropout(0.5))\n",
        "model.add(Dense(1)) \n",
        "\n",
        "# Default learning rate - 0.001.\n",
        "model.compile(loss='mean_squared_error', optimizer=Adam(lr = 0.002))\n",
        "# model.compile(loss='mean_squared_error', optimizer='adam')\n",
        "model.fit(trainX, trainY, epochs=10, batch_size=2, verbose=1)"
      ],
      "execution_count": 32,
      "outputs": [
        {
          "output_type": "stream",
          "text": [
            "WARNING:tensorflow:From /usr/local/lib/python3.6/dist-packages/tensorflow/python/framework/op_def_library.py:263: colocate_with (from tensorflow.python.framework.ops) is deprecated and will be removed in a future version.\n",
            "Instructions for updating:\n",
            "Colocations handled automatically by placer.\n",
            "WARNING:tensorflow:From /usr/local/lib/python3.6/dist-packages/tensorflow/python/ops/math_ops.py:3066: to_int32 (from tensorflow.python.ops.math_ops) is deprecated and will be removed in a future version.\n",
            "Instructions for updating:\n",
            "Use tf.cast instead.\n",
            "Epoch 1/10\n",
            "1080/1080 [==============================] - 3s 3ms/step - loss: 0.0059\n",
            "Epoch 2/10\n",
            "1080/1080 [==============================] - 2s 2ms/step - loss: 0.0020\n",
            "Epoch 3/10\n",
            "1080/1080 [==============================] - 2s 2ms/step - loss: 9.0251e-04\n",
            "Epoch 4/10\n",
            "1080/1080 [==============================] - 2s 2ms/step - loss: 5.5873e-04\n",
            "Epoch 5/10\n",
            "1080/1080 [==============================] - 3s 2ms/step - loss: 4.5024e-04\n",
            "Epoch 6/10\n",
            "1080/1080 [==============================] - 3s 2ms/step - loss: 4.0782e-04\n",
            "Epoch 7/10\n",
            "1080/1080 [==============================] - 3s 2ms/step - loss: 3.3702e-04\n",
            "Epoch 8/10\n",
            "1080/1080 [==============================] - 3s 2ms/step - loss: 2.9002e-04\n",
            "Epoch 9/10\n",
            "1080/1080 [==============================] - 2s 2ms/step - loss: 3.2653e-04\n",
            "Epoch 10/10\n",
            "1080/1080 [==============================] - 2s 2ms/step - loss: 2.7365e-04\n"
          ],
          "name": "stdout"
        },
        {
          "output_type": "execute_result",
          "data": {
            "text/plain": [
              "<keras.callbacks.History at 0x7f65dd15af60>"
            ]
          },
          "metadata": {
            "tags": []
          },
          "execution_count": 32
        }
      ]
    },
    {
      "metadata": {
        "id": "fmQJhaCRzzFf",
        "colab_type": "code",
        "colab": {}
      },
      "cell_type": "code",
      "source": [
        "# import eli5\n",
        "# from eli5.sklearn import PermutationImportance\n",
        "\n",
        "# perm = PermutationImportance(model, random_state=1, scoring='f1').fit(trainX, trainY)\n",
        "# eli5.show_weights(perm, feature_names = trainX.columns.tolist())"
      ],
      "execution_count": 0,
      "outputs": []
    },
    {
      "metadata": {
        "id": "Py5zUB_KJqZO",
        "colab_type": "code",
        "colab": {}
      },
      "cell_type": "code",
      "source": [
        "# make predictions\n",
        "trainPredict = model.predict(trainX)\n",
        "testPredict = model.predict(testX)"
      ],
      "execution_count": 0,
      "outputs": []
    },
    {
      "metadata": {
        "id": "R7Kgk5ebMRdE",
        "colab_type": "code",
        "colab": {}
      },
      "cell_type": "code",
      "source": [
        "# testX"
      ],
      "execution_count": 0,
      "outputs": []
    },
    {
      "metadata": {
        "id": "regTyFZsXlrO",
        "colab_type": "code",
        "outputId": "0c9bf90a-e7b9-4036-ef24-7d6e2b6803a0",
        "colab": {
          "base_uri": "https://localhost:8080/",
          "height": 34
        }
      },
      "cell_type": "code",
      "source": [
        "trainPredict.shape"
      ],
      "execution_count": 36,
      "outputs": [
        {
          "output_type": "execute_result",
          "data": {
            "text/plain": [
              "(1080, 1)"
            ]
          },
          "metadata": {
            "tags": []
          },
          "execution_count": 36
        }
      ]
    },
    {
      "metadata": {
        "id": "5k_8fTgxXwDP",
        "colab_type": "code",
        "outputId": "52e8d37d-b7cb-4170-82b8-72102fd7ed30",
        "colab": {
          "base_uri": "https://localhost:8080/",
          "height": 34
        }
      },
      "cell_type": "code",
      "source": [
        "trainPredict_rescaled = scaler_test.inverse_transform(trainPredict)\n",
        "trainPredict_rescaled.shape"
      ],
      "execution_count": 37,
      "outputs": [
        {
          "output_type": "execute_result",
          "data": {
            "text/plain": [
              "(1080, 1)"
            ]
          },
          "metadata": {
            "tags": []
          },
          "execution_count": 37
        }
      ]
    },
    {
      "metadata": {
        "id": "sXLBM5E3Xjuu",
        "colab_type": "code",
        "outputId": "53dc519b-17c4-49d5-f12c-b731c28a0e1c",
        "colab": {
          "base_uri": "https://localhost:8080/",
          "height": 51
        }
      },
      "cell_type": "code",
      "source": [
        "# invert predictions\n",
        "trainPredict_rescaled = scaler_test.inverse_transform(trainPredict)\n",
        "trainY_rescaled = scaler_test.inverse_transform([trainY])\n",
        "testPredict_rescaled = scaler_test.inverse_transform(testPredict)\n",
        "testY_rescaled = scaler_test.inverse_transform([testY])\n",
        "\n",
        "# calculate root mean squared error\n",
        "trainScore = math.sqrt(mean_squared_error(trainY_rescaled[0], trainPredict_rescaled[:,0]))\n",
        "print('Train Score: %.2f RMSE' % (trainScore))\n",
        "testScore = math.sqrt(mean_squared_error(testY_rescaled[0], testPredict_rescaled[:,0]))\n",
        "print('Test Score: %.2f RMSE' % (testScore))"
      ],
      "execution_count": 38,
      "outputs": [
        {
          "output_type": "stream",
          "text": [
            "Train Score: 2.64 RMSE\n",
            "Test Score: 2.97 RMSE\n"
          ],
          "name": "stdout"
        }
      ]
    },
    {
      "metadata": {
        "id": "2yiomZ5Vbxb6",
        "colab_type": "code",
        "outputId": "d41ba76a-7df1-4efe-b6dd-f8a1d62f6397",
        "colab": {
          "base_uri": "https://localhost:8080/",
          "height": 34
        }
      },
      "cell_type": "code",
      "source": [
        "testY_rescaled.T.shape"
      ],
      "execution_count": 39,
      "outputs": [
        {
          "output_type": "execute_result",
          "data": {
            "text/plain": [
              "(460, 1)"
            ]
          },
          "metadata": {
            "tags": []
          },
          "execution_count": 39
        }
      ]
    },
    {
      "metadata": {
        "id": "-W_eAy0bciic",
        "colab_type": "code",
        "outputId": "1ebcd5a9-1434-43b3-cd38-ef412ce08399",
        "colab": {
          "base_uri": "https://localhost:8080/",
          "height": 34
        }
      },
      "cell_type": "code",
      "source": [
        "testPredict_rescaled.shape"
      ],
      "execution_count": 40,
      "outputs": [
        {
          "output_type": "execute_result",
          "data": {
            "text/plain": [
              "(460, 1)"
            ]
          },
          "metadata": {
            "tags": []
          },
          "execution_count": 40
        }
      ]
    },
    {
      "metadata": {
        "id": "u70jfrTYL0dI",
        "colab_type": "code",
        "colab": {}
      },
      "cell_type": "code",
      "source": [
        "# shift train predictions for plotting\n",
        "trainY_rescaled_plot = np.empty_like(ds_scaled)\n",
        "trainY_rescaled_plot[:, :] = np.nan\n",
        "trainY_rescaled_plot[look_back:len(trainY_rescaled.T)+look_back, :] = trainY_rescaled.T\n",
        "\n",
        "# shift train predictions for plotting\n",
        "trainPredictPlot = np.empty_like(ds_scaled)\n",
        "trainPredictPlot[:, :] = np.nan\n",
        "trainPredictPlot[look_back:len(trainPredict_rescaled)+look_back, :] = trainPredict_rescaled\n",
        "\n",
        "# shift test predictions for plotting\n",
        "testY_rescaled_plot = np.empty_like(ds_scaled)\n",
        "testY_rescaled_plot[:, :] = np.nan\n",
        "testY_rescaled_plot[len(trainY_rescaled.T)+(look_back*2)+1:len(ds_scaled)-1, :] = testY_rescaled.T\n",
        "\n",
        "# shift test predictions for plotting\n",
        "testPredictPlot = np.empty_like(ds_scaled)\n",
        "testPredictPlot[:, :] = np.nan\n",
        "testPredictPlot[len(trainPredict_rescaled)+(look_back*2)+1:len(ds_scaled)-1, :] = testPredict_rescaled\n",
        "\n",
        "# normalize the dataset\n",
        "dataset_back_1 = scaler_train.inverse_transform(ds_scaled[:,:num_of_features])\n",
        "\n",
        "dataset_back_2 = scaler_test.inverse_transform(ds_scaled[:,num_of_features:num_of_features+1])\n",
        "\n",
        "ds_back_scaled = np.column_stack((dataset_back_1,dataset_back_2))\n"
      ],
      "execution_count": 0,
      "outputs": []
    },
    {
      "metadata": {
        "id": "3o1ZlDziXNyO",
        "colab_type": "code",
        "outputId": "93a8c1b9-9cf4-4060-fcc2-2d77110c3afa",
        "colab": {
          "base_uri": "https://localhost:8080/",
          "height": 310
        }
      },
      "cell_type": "code",
      "source": [
        "# x_axis_train_list = x_axis_train.tolist()\n",
        "# x_axis_test_list = x_axis_test.tolist()\n",
        "\n",
        "# xi = [i for i in range(0, len(x_axis_train_list))]\n",
        "\n",
        "plt.plot(trainY_rescaled_plot, 'dodgerblue')\n",
        "plt.plot(trainPredictPlot, 'darkorange')\n",
        "plt.plot(testY_rescaled_plot, 'tomato')\n",
        "plt.plot(testPredictPlot, 'limegreen')\n",
        "\n",
        "# np.savetxt(\"trainY.csv\", trainY_rescaled_plot, delimiter=\",\")\n",
        "# np.savetxt(\"trainPredict.csv\", trainPredictPlot, delimiter=\",\")\n",
        "# np.savetxt(\"testY.csv\", testY_rescaled_plot, delimiter=\",\")\n",
        "# np.savetxt(\"testPredict.csv\", testPredictPlot+3, delimiter=\",\")\n",
        "\n",
        "## convert your array into a dataframe\n",
        "df_date = pd.DataFrame(x_axis)\n",
        "df_trainY = pd.DataFrame(trainY_rescaled_plot)\n",
        "df_trainY = df_trainY.iloc[:,0] # first column of data frame (first_name)\n",
        "df_trainPredict = pd.DataFrame(trainPredictPlot)\n",
        "df_trainPredict = df_trainPredict.iloc[:,0] # first column of data frame (first_name)\n",
        "df_testY = pd.DataFrame(testY_rescaled_plot)\n",
        "df_testY = df_testY.iloc[:,0] # first column of data frame (first_name)\n",
        "df_testPredict = pd.DataFrame(testPredictPlot)\n",
        "df_testPredict = df_testPredict.iloc[:,0] # first column of data frame (first_name)\n",
        "\n",
        "## save to xlsx file\n",
        "# filepath1 = 'df_trainY.xlsx'\n",
        "# filepath2 = 'df_trainPredict.xlsx'\n",
        "# filepath3 = 'df_testY.xlsx'\n",
        "# filepath4 = 'df_testPredict.xlsx'\n",
        "# filepath5 = 'df_date.xlsx'\n",
        "\n",
        "# df_trainY.to_excel(filepath1, index=False)\n",
        "# df_trainPredict.to_excel(filepath2, index=False)\n",
        "# df_testY.to_excel(filepath3, index=False)\n",
        "# df_testPredict.to_excel(filepath4, index=False)\n",
        "# df_date.to_excel(filepath5, index=False)\n",
        "\n",
        "\n",
        "# ax.set_xticks(x_axis_train_list)\n",
        "plt.xlabel('Date')\n",
        "plt.ylabel('Closing price in USD($)')\n",
        "\n",
        "blue_patch = mpatches.Patch(color='dodgerblue', label = 'Actual Training Data')\n",
        "green_patch = mpatches.Patch(color='darkorange', label = 'Predicted Training Data')\n",
        "red_patch = mpatches.Patch(color='tomato', label = 'Actual Testing Data')\n",
        "violet_patch = mpatches.Patch(color='limegreen', label = 'Predicted Testing Data')\n",
        "\n",
        "# plt.xticks(range(len(x_axis)),x_axis)\n",
        "\n",
        "plt.legend(handles=[blue_patch, green_patch, red_patch, violet_patch])\n",
        "\n",
        "# plt.xticks(str(x_axis_train_list))\n",
        "# x = [5,10,15,20,25,30,35]\n",
        "# xi = [i for i in range(0, 50)]\n",
        "# plt.xticks('x_axis')\n",
        "\n",
        "# plt.xticks( np.arange(100), [12,23,23,21,2,1,2,1,21,21,2,1,21], rotation=17 )\n",
        "\n",
        "# plt.xticks(x_axis_train.tolist())\n",
        "plt.title('Apple Stock Prediction for 2017-2018\\nusing Stock and News data')\n",
        "plt.savefig('Case_1.jpeg', dpi = 1000, quality = 100)\n",
        "plt.show()"
      ],
      "execution_count": 42,
      "outputs": [
        {
          "output_type": "display_data",
          "data": {
            "image/png": "[encoded data removed]",
            "text/plain": [
              "<Figure size 432x288 with 1 Axes>"
            ]
          },
          "metadata": {
            "tags": []
          }
        }
      ]
    },
    {
      "metadata": {
        "id": "jKeNhx3pMNcl",
        "colab_type": "code",
        "outputId": "622094a5-5964-44d2-ce1e-ad1c810eeb45",
        "colab": {
          "base_uri": "https://localhost:8080/",
          "height": 269
        }
      },
      "cell_type": "code",
      "source": [
        "plt.plot(testY_rescaled[0])\n",
        "plt.plot(testPredict_rescaled)\n",
        "plt.show()"
      ],
      "execution_count": 43,
      "outputs": [
        {
          "output_type": "display_data",
          "data": {
            "image/png": "[encoded data removed]",
            "text/plain": [
              "<Figure size 432x288 with 1 Axes>"
            ]
          },
          "metadata": {
            "tags": []
          }
        }
      ]
    }
  ]
}