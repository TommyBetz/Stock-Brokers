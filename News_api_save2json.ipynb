{
 "cells": [
  {
   "cell_type": "code",
   "execution_count": 1,
   "metadata": {},
   "outputs": [],
   "source": [
    "from pyspark.context import SparkContext\n",
    "from pyspark.sql.session import SparkSession\n",
    "from pyspark.sql.types import StructType, StructField, StringType\n",
    "from pyspark.sql.types import *\n",
    "from pyspark.sql import SparkSession, functions, types\n",
    "from pyspark.sql.functions import col, explode\n",
    "\n",
    "import datetime\n",
    "import requests\n",
    "\n",
    "sc = SparkContext('local')\n",
    "spark = SparkSession(sc)"
   ]
  },
  {
   "cell_type": "code",
   "execution_count": 5,
   "metadata": {},
   "outputs": [],
   "source": [
    "#### Setting up Time Frame\n",
    "\n",
    "start_str = '2019-04-06'\n",
    "end_str = '2019-04-11'\n",
    "\n",
    "start_date = datetime.date(int(start_str[:4]), int(start_str[6:7]), int(start_str[9:10]))\n",
    "end_date = datetime.date(int(end_str[:4]), int(end_str[6:7]), int(end_str[9:10]))\n",
    "\n",
    "days_2_loop = abs((end_date - start_date).days) + 1"
   ]
  },
  {
   "cell_type": "code",
   "execution_count": 8,
   "metadata": {},
   "outputs": [
    {
     "name": "stdout",
     "output_type": "stream",
     "text": [
      "https://newsapi.org/v2/everything?q=Apple&sources=bloomberg&from=2019-04-06&sortBy=popularity&apiKey=713cda0a7da543909c73cf9b06b3a158&page=1&pageSize=100\n",
      "https://newsapi.org/v2/everything?q=Apple&sources=bloomberg&from=2019-04-07&sortBy=popularity&apiKey=713cda0a7da543909c73cf9b06b3a158&page=1&pageSize=100\n",
      "https://newsapi.org/v2/everything?q=Apple&sources=bloomberg&from=2019-04-08&sortBy=popularity&apiKey=713cda0a7da543909c73cf9b06b3a158&page=1&pageSize=100\n",
      "https://newsapi.org/v2/everything?q=Apple&sources=bloomberg&from=2019-04-09&sortBy=popularity&apiKey=713cda0a7da543909c73cf9b06b3a158&page=1&pageSize=100\n",
      "https://newsapi.org/v2/everything?q=Apple&sources=bloomberg&from=2019-04-10&sortBy=popularity&apiKey=713cda0a7da543909c73cf9b06b3a158&page=1&pageSize=100\n",
      "https://newsapi.org/v2/everything?q=Apple&sources=bloomberg&from=2019-04-11&sortBy=popularity&apiKey=713cda0a7da543909c73cf9b06b3a158&page=1&pageSize=100\n",
      "https://newsapi.org/v2/everything?q=Apple&sources=cnbc&from=2019-04-06&sortBy=popularity&apiKey=713cda0a7da543909c73cf9b06b3a158&page=1&pageSize=100\n",
      "https://newsapi.org/v2/everything?q=Apple&sources=cnbc&from=2019-04-07&sortBy=popularity&apiKey=713cda0a7da543909c73cf9b06b3a158&page=1&pageSize=100\n",
      "https://newsapi.org/v2/everything?q=Apple&sources=cnbc&from=2019-04-08&sortBy=popularity&apiKey=713cda0a7da543909c73cf9b06b3a158&page=1&pageSize=100\n",
      "https://newsapi.org/v2/everything?q=Apple&sources=cnbc&from=2019-04-09&sortBy=popularity&apiKey=713cda0a7da543909c73cf9b06b3a158&page=1&pageSize=100\n",
      "https://newsapi.org/v2/everything?q=Apple&sources=cnbc&from=2019-04-10&sortBy=popularity&apiKey=713cda0a7da543909c73cf9b06b3a158&page=1&pageSize=100\n",
      "https://newsapi.org/v2/everything?q=Apple&sources=cnbc&from=2019-04-11&sortBy=popularity&apiKey=713cda0a7da543909c73cf9b06b3a158&page=1&pageSize=100\n",
      "https://newsapi.org/v2/everything?q=Apple&sources=reuters&from=2019-04-06&sortBy=popularity&apiKey=713cda0a7da543909c73cf9b06b3a158&page=1&pageSize=100\n",
      "https://newsapi.org/v2/everything?q=Apple&sources=reuters&from=2019-04-07&sortBy=popularity&apiKey=713cda0a7da543909c73cf9b06b3a158&page=1&pageSize=100\n",
      "https://newsapi.org/v2/everything?q=Apple&sources=reuters&from=2019-04-08&sortBy=popularity&apiKey=713cda0a7da543909c73cf9b06b3a158&page=1&pageSize=100\n",
      "https://newsapi.org/v2/everything?q=Apple&sources=reuters&from=2019-04-09&sortBy=popularity&apiKey=713cda0a7da543909c73cf9b06b3a158&page=1&pageSize=100\n",
      "https://newsapi.org/v2/everything?q=Apple&sources=reuters&from=2019-04-10&sortBy=popularity&apiKey=713cda0a7da543909c73cf9b06b3a158&page=1&pageSize=100\n",
      "https://newsapi.org/v2/everything?q=Apple&sources=reuters&from=2019-04-11&sortBy=popularity&apiKey=713cda0a7da543909c73cf9b06b3a158&page=1&pageSize=100\n",
      "https://newsapi.org/v2/everything?q=Apple&sources=the-wall-street-journal&from=2019-04-06&sortBy=popularity&apiKey=713cda0a7da543909c73cf9b06b3a158&page=1&pageSize=100\n",
      "https://newsapi.org/v2/everything?q=Apple&sources=the-wall-street-journal&from=2019-04-07&sortBy=popularity&apiKey=713cda0a7da543909c73cf9b06b3a158&page=1&pageSize=100\n",
      "https://newsapi.org/v2/everything?q=Apple&sources=the-wall-street-journal&from=2019-04-08&sortBy=popularity&apiKey=713cda0a7da543909c73cf9b06b3a158&page=1&pageSize=100\n",
      "https://newsapi.org/v2/everything?q=Apple&sources=the-wall-street-journal&from=2019-04-09&sortBy=popularity&apiKey=713cda0a7da543909c73cf9b06b3a158&page=1&pageSize=100\n",
      "https://newsapi.org/v2/everything?q=Apple&sources=the-wall-street-journal&from=2019-04-10&sortBy=popularity&apiKey=713cda0a7da543909c73cf9b06b3a158&page=1&pageSize=100\n",
      "https://newsapi.org/v2/everything?q=Apple&sources=the-wall-street-journal&from=2019-04-11&sortBy=popularity&apiKey=713cda0a7da543909c73cf9b06b3a158&page=1&pageSize=100\n",
      "https://newsapi.org/v2/everything?q=Apple&sources=fortune&from=2019-04-06&sortBy=popularity&apiKey=713cda0a7da543909c73cf9b06b3a158&page=1&pageSize=100\n",
      "https://newsapi.org/v2/everything?q=Apple&sources=fortune&from=2019-04-07&sortBy=popularity&apiKey=713cda0a7da543909c73cf9b06b3a158&page=1&pageSize=100\n",
      "https://newsapi.org/v2/everything?q=Apple&sources=fortune&from=2019-04-08&sortBy=popularity&apiKey=713cda0a7da543909c73cf9b06b3a158&page=1&pageSize=100\n",
      "https://newsapi.org/v2/everything?q=Apple&sources=fortune&from=2019-04-09&sortBy=popularity&apiKey=713cda0a7da543909c73cf9b06b3a158&page=1&pageSize=100\n",
      "https://newsapi.org/v2/everything?q=Apple&sources=fortune&from=2019-04-10&sortBy=popularity&apiKey=713cda0a7da543909c73cf9b06b3a158&page=1&pageSize=100\n",
      "https://newsapi.org/v2/everything?q=Apple&sources=fortune&from=2019-04-11&sortBy=popularity&apiKey=713cda0a7da543909c73cf9b06b3a158&page=1&pageSize=100\n"
     ]
    }
   ],
   "source": [
    "#### Downloading and Saving News into JSON\n",
    "\n",
    "# Sources\n",
    "news_sources = ['bloomberg', 'cnbc', 'reuters', 'the-wall-street-journal', 'fortune']\n",
    "apiKey = '713cda0a7da543909c73cf9b06b3a158'\n",
    "\n",
    "# Loop thru each Source and News Article\n",
    "for source in news_sources:\n",
    "    days_count = 0\n",
    "    for day in range(days_2_loop):\n",
    "        date = str(start_date + datetime.timedelta(days=days_count))\n",
    "        json_file = open('news_data_apple_json/' + source + '_' + date + '.json', \"w\")\n",
    "    \n",
    "        url = ('https://newsapi.org/v2/everything?'\n",
    "        'q=Apple&'\n",
    "        'sources=' + source + '&' +\n",
    "        'from=' + date + '&'\n",
    "        'sortBy=popularity&'\n",
    "        'apiKey=' + apiKey + '&'\n",
    "        'page=1&'\n",
    "        'pageSize=100')\n",
    "        \n",
    "        response = requests.get(url)\n",
    "        \n",
    "        json_file.write(response.text)\n",
    "        json_file.close()\n",
    "        \n",
    "        days_count = days_count + 1"
   ]
  },
  {
   "cell_type": "code",
   "execution_count": 9,
   "metadata": {},
   "outputs": [
    {
     "name": "stdout",
     "output_type": "stream",
     "text": [
      "+--------------------+----+-------+------+------------+\n",
      "|            articles|code|message|status|totalResults|\n",
      "+--------------------+----+-------+------+------------+\n",
      "|[[Reuters Editori...|null|   null|    ok|          38|\n",
      "|[[Reuters Editori...|null|   null|    ok|          28|\n",
      "|[[Todd Haselton, ...|null|   null|    ok|          21|\n",
      "|[[Todd Haselton, ...|null|   null|    ok|          19|\n",
      "|[[Sankalp Phartiy...|null|   null|    ok|          17|\n",
      "+--------------------+----+-------+------+------------+\n",
      "only showing top 5 rows\n",
      "\n"
     ]
    }
   ],
   "source": [
    "#### Read all JSON Files\n",
    "\n",
    "df_temp = spark.read.json(\"news_data_apple_json/*json\")\n",
    "df_temp.show(5)"
   ]
  },
  {
   "cell_type": "code",
   "execution_count": 11,
   "metadata": {},
   "outputs": [
    {
     "name": "stdout",
     "output_type": "stream",
     "text": [
      "+----------+------+------------+-----------------+------------------------------+--------------------------------+--------------------+--------------------+--------------------+\n",
      "|      Date|status|totalResults|           author|                         title|                     description|         publishedAt|                 url|             content|\n",
      "+----------+------+------------+-----------------+------------------------------+--------------------------------+--------------------+--------------------+--------------------+\n",
      "|2019-04-03|    ok|          38|Reuters Editorial|          Exclusive: Japan ...|            Japan Display Inc...|2019-04-03T05:59:18Z|https://www.reute...|TOKYO (Reuters) -...|\n",
      "|2019-04-02|    ok|          38|Reuters Editorial|          Apple, luxury bra...|            Apple Inc and oth...|2019-04-02T04:07:10Z|https://www.reute...|BEIJING (Reuters)...|\n",
      "|2019-04-05|    ok|          38|       Kenneth Li|          Apple Music's U.S...|            Apple Inc's strea...|2019-04-05T17:34:46Z|https://www.reute...|(Reuters) - Apple...|\n",
      "|2019-04-04|    ok|          38|Sankalp Phartiyal|          Apple cuts iPhone...|            Apple Inc has cut...|2019-04-04T08:58:35Z|https://www.reute...|MUMBAI (Reuters) ...|\n",
      "|2019-04-03|    ok|          38|      Ju-min Park|          Samsung Electroni...|            The odds are stac...|2019-04-03T23:02:02Z|https://www.reute...|SEOUL (Reuters) -...|\n",
      "|2019-04-04|    ok|          38|     Foo Yun Chee|          Force tech giants...|            EU antitrust regu...|2019-04-04T12:41:30Z|https://www.reute...|BUCHAREST (Reuter...|\n",
      "|2019-04-05|    ok|          38|       Kenneth Li|          Apple Music's U.S...|            Apple Inc's strea...|2019-04-05T17:34:46Z|https://www.reute...|(Reuters) - Apple...|\n",
      "|2019-04-04|    ok|          38|    Alicia Powell|          Sara Bareilles: '...|            Singer-songwriter...|2019-04-04T19:26:49Z|https://www.reute...|NEW YORK (Reuters...|\n",
      "|2019-04-03|    ok|          38|Reuters Editorial|          《路透晚报》--4月3日|   英国退欧部政务次长Robin Wa...|2019-04-03T09:25:34Z|https://cn.reuter...|(7:00-5:00) \r\n",
      "[] ...|\n",
      "|2019-04-02|    ok|          38|Reuters Editorial|          Swiss court backs...|            A Swiss court has...|2019-04-02T10:00:00Z|https://www.reute...|ZURICH (Reuters) ...|\n",
      "|2019-04-04|    ok|          38|Reuters Editorial|          WhatsApp Business...|            Facebook Inc's me...|2019-04-04T12:25:32Z|https://www.reute...|(Reuters) - Faceb...|\n",
      "|2019-04-03|    ok|          38|    Ayai Tomisawa|          Nikkei rises, U.S...|            Japanese stocks r...|2019-04-03T07:09:09Z|https://www.reute...|* Renewed optimis...|\n",
      "|2019-04-04|    ok|          38|    Ayai Tomisawa|          Nikkei edges up t...|            Japan's Nikkei ed...|2019-04-04T02:48:36Z|https://www.reute...|* Foreigners net ...|\n",
      "|2019-04-05|    ok|          38|    Barbara Lewis|          CRU-CESCO-BHP Ame...|            Copper producers ...|2019-04-05T17:45:00Z|https://www.reute...|* ‘Sustainability...|\n",
      "|2019-04-02|    ok|          38|Reuters Editorial|          Morning News Call...|            To access a PDF v...|2019-04-02T03:16:01Z|https://www.reute...|                null|\n",
      "|2019-04-05|    ok|          38|Reuters Editorial|          Morning News Call...|            To access a PDF v...|2019-04-05T03:23:35Z|https://www.reute...|                null|\n",
      "|2019-04-03|    ok|          38|Reuters Editorial|独家：日本显示器将为Apple W...|路透东京4月3日 - 两位消息人士...|2019-04-03T06:28:02Z|https://cn.reuter...|43 - (JDI)(6740.T...|\n",
      "|2019-04-03|    ok|          38|  Makiko Yamazaki|          Exclusive: Japan ...|            Japan Display Inc...|2019-04-03T05:58:09Z|https://in.reuter...|TOKYO (Reuters) -...|\n",
      "|2019-04-04|    ok|          38|Sankalp Phartiyal|          Apple cuts iPhone...|            Apple Inc has cut...|2019-04-04T08:59:16Z|https://in.reuter...|MUMBAI (Reuters) ...|\n",
      "|2019-04-04|    ok|          38|Reuters Editorial|          WhatsApp Business...|            Facebook Inc's me...|2019-04-04T12:27:32Z|https://in.reuter...|(Reuters) - Faceb...|\n",
      "+----------+------+------------+-----------------+------------------------------+--------------------------------+--------------------+--------------------+--------------------+\n",
      "only showing top 20 rows\n",
      "\n"
     ]
    }
   ],
   "source": [
    "#### Convert nested DF into exploded DF\n",
    "\n",
    "df_temp_3 = df_temp.withColumn('articles_nested', explode(df_temp.articles))\n",
    "\n",
    "df_temp_3 = df_temp_3.withColumn('author', df_temp_3.articles_nested.author)\n",
    "\n",
    "df_temp_3 = df_temp_3.withColumn('title', (col('articles_nested.title')))\n",
    "df_temp_3 = df_temp_3.withColumn('description', (col('articles_nested.description')))\n",
    "df_temp_3 = df_temp_3.withColumn('publishedAt', (col('articles_nested.publishedAt')))\n",
    "df_temp_3 = df_temp_3.withColumn('url', (col('articles_nested.url')))\n",
    "df_temp_3 = df_temp_3.withColumn('content', (col('articles_nested.content')))\n",
    "df_temp_3 = df_temp_3.withColumn('Date', col('publishedAt').substr(1, 10))\n",
    "\n",
    "df_temp_3 = df_temp_3.drop('articles')\n",
    "df_temp_3 = df_temp_3.drop('articles_nested')\n",
    "\n",
    "df_write = df_temp_3.select('Date', 'status', 'totalResults', 'author', 'title', 'description', 'publishedAt', 'url', 'content')\n",
    "\n",
    "df_write.show()"
   ]
  },
  {
   "cell_type": "code",
   "execution_count": 15,
   "metadata": {},
   "outputs": [],
   "source": [
    "#### Save DF to CSV\n",
    "df_write.repartition(1).write.csv('News_current', header=True)"
   ]
  },
  {
   "cell_type": "code",
   "execution_count": null,
   "metadata": {},
   "outputs": [],
   "source": []
  }
 ],
 "metadata": {
  "kernelspec": {
   "display_name": "Python 3",
   "language": "python",
   "name": "python3"
  },
  "language_info": {
   "codemirror_mode": {
    "name": "ipython",
    "version": 3
   },
   "file_extension": ".py",
   "mimetype": "text/x-python",
   "name": "python",
   "nbconvert_exporter": "python",
   "pygments_lexer": "ipython3",
   "version": "3.6.8"
  }
 },
 "nbformat": 4,
 "nbformat_minor": 2
}
