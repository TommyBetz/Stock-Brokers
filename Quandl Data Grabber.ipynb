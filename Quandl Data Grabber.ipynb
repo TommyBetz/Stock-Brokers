{
 "cells": [
  {
   "cell_type": "markdown",
   "metadata": {},
   "source": [
    "# Get daily stock data for companies listed in NASDAQ using Quandl API"
   ]
  },
  {
   "cell_type": "code",
   "execution_count": 1,
   "metadata": {},
   "outputs": [],
   "source": [
    "# Import libraries\n",
    "import pandas as pd\n",
    "import quandl\n",
    "import time"
   ]
  },
  {
   "cell_type": "code",
   "execution_count": 2,
   "metadata": {},
   "outputs": [],
   "source": [
    "# Get list of companies listed in NASDAQ\n",
    "# Dataset link: https://www.nasdaq.com/screening/company-list.aspx\n",
    "companyInfo = pd.read_csv('data/companylist.csv',sep=',') "
   ]
  },
  {
   "cell_type": "code",
   "execution_count": 3,
   "metadata": {},
   "outputs": [],
   "source": [
    "# Get the column containing symbols and convert into list\n",
    "stocks = companyInfo['Symbol'].values.tolist()"
   ]
  },
  {
   "cell_type": "code",
   "execution_count": 4,
   "metadata": {},
   "outputs": [
    {
     "name": "stdout",
     "output_type": "stream",
     "text": [
      "Got data-> From date:1980-01-01 To date:1980-12-31\n",
      "Got data-> From date:1981-01-01 To date:1981-12-31\n",
      "Got data-> From date:1982-01-01 To date:1982-12-31\n",
      "Got data-> From date:1983-01-01 To date:1983-12-31\n",
      "Got data-> From date:1984-01-01 To date:1984-12-31\n",
      "Got data-> From date:1985-01-01 To date:1985-12-31\n",
      "Got data-> From date:1986-01-01 To date:1986-12-31\n",
      "Got data-> From date:1987-01-01 To date:1987-12-31\n",
      "Got data-> From date:1988-01-01 To date:1988-12-31\n",
      "Got data-> From date:1989-01-01 To date:1989-12-31\n",
      "Got data-> From date:1990-01-01 To date:1990-12-31\n",
      "Got data-> From date:1991-01-01 To date:1991-12-31\n",
      "Got data-> From date:1992-01-01 To date:1992-12-31\n",
      "Got data-> From date:1993-01-01 To date:1993-12-31\n",
      "Got data-> From date:1994-01-01 To date:1994-12-31\n",
      "Got data-> From date:1995-01-01 To date:1995-12-31\n",
      "Got data-> From date:1996-01-01 To date:1996-12-31\n",
      "Got data-> From date:1997-01-01 To date:1997-12-31\n",
      "Got data-> From date:1998-01-01 To date:1998-12-31\n",
      "Got data-> From date:1999-01-01 To date:1999-12-31\n",
      "Got data-> From date:2000-01-01 To date:2000-12-31\n",
      "Got data-> From date:2001-01-01 To date:2001-12-31\n",
      "Got data-> From date:2002-01-01 To date:2002-12-31\n",
      "Got data-> From date:2003-01-01 To date:2003-12-31\n",
      "Got data-> From date:2004-01-01 To date:2004-12-31\n",
      "Got data-> From date:2005-01-01 To date:2005-12-31\n",
      "Got data-> From date:2006-01-01 To date:2006-12-31\n",
      "Got data-> From date:2007-01-01 To date:2007-12-31\n",
      "Got data-> From date:2008-01-01 To date:2008-12-31\n",
      "Got data-> From date:2009-01-01 To date:2009-12-31\n",
      "Got data-> From date:2010-01-01 To date:2010-12-31\n",
      "Got data-> From date:2011-01-01 To date:2011-12-31\n",
      "Got data-> From date:2012-01-01 To date:2012-12-31\n",
      "Got data-> From date:2013-01-01 To date:2013-12-31\n",
      "Got data-> From date:2014-01-01 To date:2014-12-31\n",
      "Got data-> From date:2015-01-01 To date:2015-12-31\n",
      "Got data-> From date:2016-01-01 To date:2016-12-31\n",
      "Got data-> From date:2017-01-01 To date:2017-12-31\n",
      "Got data-> From date:2018-01-01 To date:2018-12-31\n",
      "Got data-> From date:2019-01-01 To date:2019-02-28\n"
     ]
    }
   ],
   "source": [
    "# Using Quandl to get daily open,high,low and close for all companies listed in NASDAQ\n",
    "quandl.ApiConfig.api_key = 'Enter your API here'\n",
    "\n",
    "for year in range(1980,2020):\n",
    "    # Get all the data for each year except 2019\n",
    "    if year != 2019:\n",
    "        dailyPrices = quandl.get_table('WIKI/PRICES', ticker = stocks, \n",
    "                        qopts = { 'columns': ['ticker', 'date', 'open','high','low','close'] }, \n",
    "                        date = { 'gte': str(year)+'-01-01', 'lte': str(year)+'-12-31' }, \n",
    "                        paginate=True)\n",
    "        print('Got data-> From date:' + str(year) + '-01-01','To date:' + str(year) + '-12-31')\n",
    "        dailyPrices.to_csv('data_'+str(year), encoding='utf-8')\n",
    "    # If year is 2019 the just grab data for first two months\n",
    "    elif year == 2019:\n",
    "        dailyPrices = quandl.get_table('WIKI/PRICES', ticker = stocks, \n",
    "                        qopts = { 'columns': ['ticker', 'date', 'open','high','low','close'] }, \n",
    "                        date = { 'gte': str(year)+'-01-01', 'lte': str(year) + '-02-28' }, \n",
    "                        paginate=True)\n",
    "        print('Got data-> From date:' + str(year) + '-01-01','To date:' + str(year) + '-02-28')\n",
    "        dailyPrices.to_csv('data_'+str(year), encoding='utf-8')\n",
    "    # Free API only allows 20 calls per 10 minutes\n",
    "    # Adjust time such that the program does not break\n",
    "    time.sleep(30)"
   ]
  },
  {
   "cell_type": "code",
   "execution_count": null,
   "metadata": {},
   "outputs": [],
   "source": []
  }
 ],
 "metadata": {
  "kernelspec": {
   "display_name": "Python 3",
   "language": "python",
   "name": "python3"
  },
  "language_info": {
   "codemirror_mode": {
    "name": "ipython",
    "version": 3
   },
   "file_extension": ".py",
   "mimetype": "text/x-python",
   "name": "python",
   "nbconvert_exporter": "python",
   "pygments_lexer": "ipython3",
   "version": "3.7.1"
  }
 },
 "nbformat": 4,
 "nbformat_minor": 2
}
